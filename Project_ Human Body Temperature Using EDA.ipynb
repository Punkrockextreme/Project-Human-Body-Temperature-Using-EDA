{
 "cells": [
  {
   "cell_type": "code",
   "execution_count": 49,
   "metadata": {},
   "outputs": [],
   "source": [
    "import csv\n",
    "import pandas as pd\n",
    "import numpy as np\n",
    "import matplotlib.pyplot as plt\n",
    "import seaborn as sns\n",
    "import scipy.stats\n",
    "from scipy.stats import norm\n",
    "from statsmodels.stats.weightstats import ztest\n",
    "from scipy.stats import ttest_1samp\n",
    "from scipy.stats import ttest_ind\n",
    "filepath= r'C:\\Users\\jflan\\Downloads\\1520467485_dsc_human_temp\\EDA_human_temperature\\data\\human_body_temperature.csv'"
   ]
  },
  {
   "cell_type": "code",
   "execution_count": 50,
   "metadata": {},
   "outputs": [],
   "source": [
    "df=pd.read_csv(filepath)"
   ]
  },
  {
   "cell_type": "code",
   "execution_count": 51,
   "metadata": {},
   "outputs": [
    {
     "name": "stdout",
     "output_type": "stream",
     "text": [
      "130\n"
     ]
    }
   ],
   "source": [
    "#checking the length. Checking sample size\n",
    "print(len(df))"
   ]
  },
  {
   "cell_type": "code",
   "execution_count": 52,
   "metadata": {},
   "outputs": [
    {
     "name": "stdout",
     "output_type": "stream",
     "text": [
      "Index(['temperature', 'gender', 'heart_rate'], dtype='object')\n"
     ]
    }
   ],
   "source": [
    "print(df.keys())"
   ]
  },
  {
   "cell_type": "code",
   "execution_count": 53,
   "metadata": {
    "scrolled": false
   },
   "outputs": [
    {
     "data": {
      "text/plain": [
       "array([[<matplotlib.axes._subplots.AxesSubplot object at 0x000001BCED6B7240>]],\n",
       "      dtype=object)"
      ]
     },
     "execution_count": 53,
     "metadata": {},
     "output_type": "execute_result"
    },
    {
     "data": {
      "image/png": "[encoded data removed]",
      "text/plain": [
       "<Figure size 432x288 with 1 Axes>"
      ]
     },
     "metadata": {
      "needs_background": "light"
     },
     "output_type": "display_data"
    }
   ],
   "source": [
    "#Exploring the dataset. It looks like the mean temperature should be about 98\n",
    "#The distribution looks normal\n",
    "df.hist(column='temperature',bins=43,density=True)"
   ]
  },
  {
   "cell_type": "code",
   "execution_count": 54,
   "metadata": {},
   "outputs": [
    {
     "name": "stdout",
     "output_type": "stream",
     "text": [
      "98.24923076923076 0.7331831580389453\n"
     ]
    }
   ],
   "source": [
    "#lets look at the mean and standard distribution\n",
    "temps=df.temperature.sort_values()\n",
    "mean,std =temps.mean(),temps.std()\n",
    "print(mean,std)"
   ]
  },
  {
   "cell_type": "code",
   "execution_count": 55,
   "metadata": {},
   "outputs": [
    {
     "name": "stdout",
     "output_type": "stream",
     "text": [
      "NormaltestResult(statistic=2.703801433319236, pvalue=0.2587479863488212)\n"
     ]
    }
   ],
   "source": [
    "#Let's confirm that normal distribution. It looks like the pvalue is >.05\n",
    "#therefore it's normally distributed\n",
    "p=scipy.stats.normaltest(temps)\n",
    "print(p)"
   ]
  },
  {
   "cell_type": "code",
   "execution_count": 56,
   "metadata": {},
   "outputs": [
    {
     "name": "stdout",
     "output_type": "stream",
     "text": [
      "-10.120132687149733\n"
     ]
    }
   ],
   "source": [
    "#let's work on getting a t score just for fun\n",
    "median=df.temperature.median()\n",
    "sample_size=df.temperature.size\n",
    "top=mean-98.9\n",
    "bottom=std/(sample_size**0.5)\n",
    "t_score=top/bottom\n",
    "print(t_score)"
   ]
  },
  {
   "cell_type": "code",
   "execution_count": 57,
   "metadata": {},
   "outputs": [
    {
     "name": "stdout",
     "output_type": "stream",
     "text": [
      "-5.4548232923645195 4.9021570141012155e-08\n"
     ]
    }
   ],
   "source": [
    "#OK, now let's do a z test as the sample size is greater than 30. It will be 1-sample as st dev is not known\n",
    "z,p_val= ztest(x1=df['temperature'],value=98.6)\n",
    "print(z,p_val)\n"
   ]
  },
  {
   "cell_type": "code",
   "execution_count": 58,
   "metadata": {},
   "outputs": [],
   "source": [
    "#looks like the null hyphothesis can be rejected as p_val 4.8e^-8< 0.05\n",
    "#Lets look at the sample for 10 random people. I will do both a z and t test for a sample size10\n",
    "sample10=np.random.choice(df['temperature'],size=10)"
   ]
  },
  {
   "cell_type": "code",
   "execution_count": 59,
   "metadata": {},
   "outputs": [
    {
     "name": "stdout",
     "output_type": "stream",
     "text": [
      "-1.7900979375076453 0.10705444841606504\n"
     ]
    }
   ],
   "source": [
    "t,p_t= ttest_1samp(sample10,98.6)\n",
    "print(t,p_t)"
   ]
  },
  {
   "cell_type": "code",
   "execution_count": 60,
   "metadata": {},
   "outputs": [
    {
     "name": "stdout",
     "output_type": "stream",
     "text": [
      "-1.7900979375076453 0.07343816832237221\n"
     ]
    }
   ],
   "source": [
    "#looks like the p value was greater than .05 so it's not significant. Time to do a z test\n",
    "z10,p_z=ztest(x1=sample10,value=98.6)\n",
    "print(z10,p_z)"
   ]
  },
  {
   "cell_type": "code",
   "execution_count": 61,
   "metadata": {},
   "outputs": [],
   "source": [
    "#it looks like both were bad but the z test was slightly lower at .609"
   ]
  },
  {
   "cell_type": "code",
   "execution_count": 62,
   "metadata": {},
   "outputs": [
    {
     "name": "stdout",
     "output_type": "stream",
     "text": [
      "0.7331831580389453\n",
      "98.24923076923076\n"
     ]
    }
   ],
   "source": [
    "#what temperature is abnormal? Let's find what is below and above a 95% confidence inteval\n",
    "#is, meaning mean +- 1.96 x the standard deviation. Both are calculated above\n",
    "print(std)\n",
    "print(mean)"
   ]
  },
  {
   "cell_type": "code",
   "execution_count": 63,
   "metadata": {},
   "outputs": [
    {
     "name": "stdout",
     "output_type": "stream",
     "text": [
      "upper limit is 99.6862697589871\n",
      "lower limit is 96.81219177947443\n",
      "anything above or below the above temperatures is abnormal\n"
     ]
    }
   ],
   "source": [
    "print(\"upper limit is\", mean+std*1.96)\n",
    "print(\"lower limit is\", mean-std*1.96)\n",
    "print(\"anything above or below the above temperatures is abnormal\")"
   ]
  },
  {
   "cell_type": "code",
   "execution_count": 71,
   "metadata": {},
   "outputs": [],
   "source": [
    "#is there a significant difference between male and females in normal temperature?\n",
    "female= df.loc[df['gender']=='F','temperature']\n",
    "male= df.loc[df['gender']=='M','temperature']"
   ]
  },
  {
   "cell_type": "code",
   "execution_count": 72,
   "metadata": {},
   "outputs": [
    {
     "name": "stdout",
     "output_type": "stream",
     "text": [
      "-2.2854345381656103 0.02393188312239561\n"
     ]
    }
   ],
   "source": [
    "#Let's run a two sample t test because we are comparing the difference of two groups and the population std dev is unknown\n",
    "t_fm,p_fm = ttest_ind(male,female)\n",
    "print(t_fm,p_fm)"
   ]
  },
  {
   "cell_type": "code",
   "execution_count": null,
   "metadata": {},
   "outputs": [],
   "source": [
    "#yes! it looks like we can reject our null hypothesis that there is no difference as the p value is less than .05!\n",
    "\n",
    "#conclusion we can see that the true mean was different than the original mean we had been provided, meaning difference populations can vary\n",
    "#We also found that we should be cautious with patients who's temperature fall outside the 95 percent confidence interval that we established\n",
    "#Since there is a stastical difference in the groups of female and male patients we should take a difference approach based on the sex of the patient\n"
   ]
  }
 ],
 "metadata": {
  "kernelspec": {
   "display_name": "Python 3",
   "language": "python",
   "name": "python3"
  },
  "language_info": {
   "codemirror_mode": {
    "name": "ipython",
    "version": 3
   },
   "file_extension": ".py",
   "mimetype": "text/x-python",
   "name": "python",
   "nbconvert_exporter": "python",
   "pygments_lexer": "ipython3",
   "version": "3.7.0"
  }
 },
 "nbformat": 4,
 "nbformat_minor": 2
}
